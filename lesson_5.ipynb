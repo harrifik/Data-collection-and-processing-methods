{
 "cells": [
  {
   "cell_type": "markdown",
   "metadata": {},
   "source": [
    "#### 1. Написать программу, которая собирает входящие письма из своего или тестового почтового ящика и сложить данные о письмах в базу данных (от кого, дата отправки, тема письма, текст письма полный)."
   ]
  },
  {
   "cell_type": "code",
   "execution_count": 1,
   "metadata": {
    "ExecuteTime": {
     "end_time": "2019-08-25T11:13:52.403207Z",
     "start_time": "2019-08-25T11:13:52.202793Z"
    }
   },
   "outputs": [],
   "source": [
    "from selenium import webdriver\n",
    "from selenium.webdriver.common.by import By\n",
    "from selenium.webdriver.common.keys import Keys\n",
    "from selenium.webdriver.support.ui import Select, WebDriverWait\n",
    "from selenium.webdriver.support import expected_conditions as EC\n",
    "from selenium.webdriver.common.action_chains import ActionChains\n",
    "from selenium.webdriver.chrome.options import Options\n",
    "from selenium.webdriver.common.by import By\n",
    "from pymongo import MongoClient, errors\n",
    "from pprint import pprint\n",
    "import json\n",
    "import re\n",
    "import time"
   ]
  },
  {
   "cell_type": "code",
   "execution_count": 2,
   "metadata": {},
   "outputs": [],
   "source": [
    "with open('email.json', 'r') as f:\n",
    "    email_data = json.load(f)"
   ]
  },
  {
   "cell_type": "code",
   "execution_count": 4,
   "metadata": {},
   "outputs": [],
   "source": [
    "driver = webdriver.Chrome()  \n",
    "driver.get('https://mail.ru/')\n",
    "assert 'Mail.ru: почта' in driver.title\n",
    "\n",
    "driver.find_element_by_id('mailbox:login').send_keys(email_data['login'])\n",
    "Select(driver.find_element_by_id('mailbox:domain')).select_by_visible_text('@mail.ru')\n",
    "driver.find_element_by_id('mailbox:submit').click()\n",
    "time.sleep(3)\n",
    "\n",
    "driver.find_element_by_id('mailbox:password').send_keys(email_data['password'])\n",
    "driver.find_element_by_id('mailbox:submit').click()\n",
    "time.sleep(3)\n",
    "\n",
    "WebDriverWait(driver, 5).until(EC.title_contains('Входящие'))\n",
    "assert 'Входящие' in driver.title\n",
    "\n",
    "mails = []\n",
    "\n",
    "for i in range(1):\n",
    "    time.sleep(3)\n",
    "    items = driver.find_elements_by_xpath(\"//a[contains(@class,'llc js-tooltip-direction_letter-bottom js-letter-list-item llc_pony-mode llc_normal')]\")\n",
    "    actions = ActionChains(driver)\n",
    "    \n",
    "    for item in items:\n",
    "        link = item.get_attribute('href')\n",
    "        info = item.find_element_by_class_name('llc__content')\n",
    "        author = info.find_element_by_class_name('ll-crpt').get_attribute('title')\n",
    "        subject = info.find_element_by_class_name('ll-sj__normal').text\n",
    "        date = item.find_element_by_class_name('llc__item_date').get_attribute('title')\n",
    "        mail = {'author': author, 'date': date, 'subject': subject, 'link': link}\n",
    "        mails.append(mail)    \n",
    "    \n",
    "    actions.move_to_element(items[-1])\n",
    "    actions.perform()\n",
    "    \n",
    "\n",
    "for mail in mails:\n",
    "    driver.get(mail['link'])\n",
    "    WebDriverWait(driver, 5).until(EC.presence_of_element_located((By.XPATH, \"//*[contains(@id, '_BODY')]\")))\n",
    "    mail['text'] = driver.find_element_by_xpath(\"//*[contains(@id, '_BODY')]\").text\n",
    "    driver.back()\n",
    "    WebDriverWait(driver, 5).until(EC.title_contains('Входящие'))\n",
    "\n",
    "driver.quit()"
   ]
  },
  {
   "cell_type": "code",
   "execution_count": null,
   "metadata": {},
   "outputs": [],
   "source": []
  },
  {
   "cell_type": "code",
   "execution_count": 5,
   "metadata": {},
   "outputs": [
    {
     "data": {
      "text/plain": [
       "<pymongo.results.InsertManyResult at 0x14e97826708>"
      ]
     },
     "execution_count": 5,
     "metadata": {},
     "output_type": "execute_result"
    }
   ],
   "source": [
    "db_name = 'mails_db'\n",
    "client = MongoClient('mongodb://127.0.0.1:27017')\n",
    "db = client[db_name]\n",
    "db.mails_db.insert_many(mails)"
   ]
  },
  {
   "cell_type": "code",
   "execution_count": null,
   "metadata": {},
   "outputs": [],
   "source": []
  },
  {
   "cell_type": "markdown",
   "metadata": {},
   "source": [
    "#### 2. Написать программу, которая собирает «Хиты продаж» с сайта техники mvideo и складывает данные в БД. Магазины можно выбрать свои. Главный критерий выбора: динамически загружаемые товары."
   ]
  },
  {
   "cell_type": "code",
   "execution_count": 6,
   "metadata": {},
   "outputs": [],
   "source": [
    "chrome_options = Options()\n",
    "chrome_options.add_argument('start-maximized')\n",
    "\n",
    "driver = webdriver.Chrome(options = chrome_options)\n",
    "driver.get('https://www.mvideo.ru/')\n",
    "assert 'М.Видео' in driver.title\n",
    "\n",
    "ajax_category_carousel = driver.find_elements_by_xpath(\"//div[contains(@data-init, 'ajax-category-carousel')]\")\n",
    "\n",
    "hits = None\n",
    "for element in ajax_category_carousel:\n",
    "    if 'Хиты продаж' in element.text:\n",
    "        hits = element\n",
    "        break\n",
    "\n",
    "goods = []\n",
    "for _ in range(5):\n",
    "    time.sleep(5)\n",
    "    items = hits.find_elements_by_class_name('gallery-list-item')\n",
    "    for item in items:\n",
    "        good = {}\n",
    "        name = item.find_element_by_class_name('sel-product-tile-title').text\n",
    "        link = item.find_element_by_class_name('sel-product-tile-title').get_attribute('href')\n",
    "        price = re.sub('\\D', '', item.find_element_by_class_name('c-pdp-price__current').text)\n",
    "        good['name'] = name\n",
    "        good['link'] = link\n",
    "        good['price'] = price\n",
    "        if name != '' and good not in goods:\n",
    "            goods.append(good)\n",
    "    button = WebDriverWait(hits, 5).until(EC.presence_of_element_located((By.CLASS_NAME, 'sel-hits-button-next')))\n",
    "    button.send_keys(Keys.ENTER)\n",
    "\n",
    "driver.quit()\n"
   ]
  },
  {
   "cell_type": "code",
   "execution_count": 7,
   "metadata": {},
   "outputs": [
    {
     "data": {
      "text/plain": [
       "[{'name': 'Смартфон Apple iPhone 11 64GB Purple (MWLX2RU/A)',\n",
       "  'link': 'https://www.mvideo.ru/products/smartfon-apple-iphone-11-64gb-purple-mwlx2ru-a-30045421',\n",
       "  'price': '59990'},\n",
       " {'name': 'Наушники Apple AirPods Pro with Wireless Case (MWP22RU/A)',\n",
       "  'link': 'https://www.mvideo.ru/products/naushniki-apple-airpods-pro-with-wireless-case-mwp22ru-a-50131384',\n",
       "  'price': '18990'},\n",
       " {'name': 'Планшет Apple iPad 10.2\" 32Gb Wi-Fi Space Grey (MW742RU/A)',\n",
       "  'link': 'https://www.mvideo.ru/products/planshet-apple-ipad-10-2-32gb-wi-fi-space-grey-mw742ru-a-30045494',\n",
       "  'price': '27990'},\n",
       " {'name': 'Наушники Apple AirPods w/Charging Case (MV7N2RU/A)',\n",
       "  'link': 'https://www.mvideo.ru/products/naushniki-apple-airpods-w-charging-case-mv7n2ru-a-50126638',\n",
       "  'price': '11490'},\n",
       " {'name': 'Наушники Apple AirPods w/Wireless Charg.Case MRXJ2',\n",
       "  'link': 'https://www.mvideo.ru/products/naushniki-apple-airpods-w-wireless-charg-case-mrxj2-50126637',\n",
       "  'price': '13990'},\n",
       " {'name': 'Смартфон Samsung Galaxy A51 128GB Black (SM-A515F)',\n",
       "  'link': 'https://www.mvideo.ru/products/smartfon-samsung-galaxy-a51-128gb-black-sm-a515f-30047891',\n",
       "  'price': '22990'},\n",
       " {'name': 'Смартфон Huawei P40 Pro Black (ELS-NX9)',\n",
       "  'link': 'https://www.mvideo.ru/products/smartfon-huawei-p40-pro-black-els-nx9-30048588',\n",
       "  'price': '64990'},\n",
       " {'name': 'Смартфон Samsung Galaxy A71 Black(SM-A715F/DSM)',\n",
       "  'link': 'https://www.mvideo.ru/products/smartfon-samsung-galaxy-a71-black-sm-a715f-dsm-30047907',\n",
       "  'price': '29990'},\n",
       " {'name': 'Смартфон Samsung Galaxy A51 64GB Red (SM-A515F)',\n",
       "  'link': 'https://www.mvideo.ru/products/smartfon-samsung-galaxy-a51-64gb-red-sm-a515f-30047893',\n",
       "  'price': '19990'},\n",
       " {'name': 'Смарт-часы Apple Watch S5 40mm Gold Sport Band (MWV72RU/A)',\n",
       "  'link': 'https://www.mvideo.ru/products/smart-chasy-apple-watch-s5-40mm-gold-sport-band-mwv72ru-a-30045467',\n",
       "  'price': '31990'},\n",
       " {'name': 'Сплит-система Comfee MSAFA-07HRN1-QC2',\n",
       "  'link': 'https://www.mvideo.ru/products/split-sistema-comfee-msafa-07hrn1-qc2-20061064',\n",
       "  'price': '9990'},\n",
       " {'name': 'Телевизор Samsung UE32M5550AU',\n",
       "  'link': 'https://www.mvideo.ru/products/televizor-samsung-ue32m5550au-10012392',\n",
       "  'price': '24990'},\n",
       " {'name': 'Смарт-часы Apple Watch S3 38mm Space Grey Al/Black Sport Band',\n",
       "  'link': 'https://www.mvideo.ru/products/smart-chasy-apple-watch-s3-38mm-space-grey-al-black-sport-band-30040333',\n",
       "  'price': '15490'},\n",
       " {'name': 'Смартфон Samsung Galaxy A51 128GB White (SM-A515F)',\n",
       "  'link': 'https://www.mvideo.ru/products/smartfon-samsung-galaxy-a51-128gb-white-sm-a515f-30047759',\n",
       "  'price': '22990'},\n",
       " {'name': 'Смартфон Honor 9C Aurora Blue (AKA-L29)',\n",
       "  'link': 'https://www.mvideo.ru/products/smartfon-honor-9c-aurora-blue-aka-l29-30049338',\n",
       "  'price': '12990'},\n",
       " {'name': 'Смарт-часы Apple Watch S5 44mm SpGray Sport Band (MWVF2RU/A)',\n",
       "  'link': 'https://www.mvideo.ru/products/smart-chasy-apple-watch-s5-44mm-spgray-sport-band-mwvf2ru-a-30045468',\n",
       "  'price': '33990'}]"
      ]
     },
     "execution_count": 7,
     "metadata": {},
     "output_type": "execute_result"
    }
   ],
   "source": [
    "goods"
   ]
  },
  {
   "cell_type": "code",
   "execution_count": 8,
   "metadata": {},
   "outputs": [
    {
     "data": {
      "text/plain": [
       "<pymongo.results.InsertManyResult at 0x14e9782b4c8>"
      ]
     },
     "execution_count": 8,
     "metadata": {},
     "output_type": "execute_result"
    }
   ],
   "source": [
    "db_name = 'goods_db'\n",
    "client = MongoClient('mongodb://127.0.0.1:27017')\n",
    "db = client[db_name]\n",
    "db.goods_db.insert_many(goods)"
   ]
  },
  {
   "cell_type": "code",
   "execution_count": null,
   "metadata": {},
   "outputs": [],
   "source": []
  }
 ],
 "metadata": {
  "kernelspec": {
   "display_name": "Python 3",
   "language": "python",
   "name": "python3"
  },
  "language_info": {
   "codemirror_mode": {
    "name": "ipython",
    "version": 3
   },
   "file_extension": ".py",
   "mimetype": "text/x-python",
   "name": "python",
   "nbconvert_exporter": "python",
   "pygments_lexer": "ipython3",
   "version": "3.7.4"
  }
 },
 "nbformat": 4,
 "nbformat_minor": 2
}
