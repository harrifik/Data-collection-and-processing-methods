{
 "cells": [
  {
   "cell_type": "markdown",
   "metadata": {},
   "source": [
    "#### 1) Написать приложение, которое собирает основные новости с сайтов news.mail.ru, lenta.ru, yandex.news. Для парсинга использовать xpath. Структура данных должна содержать: название источника, наименование новости, ссылку на новость, дата публикации"
   ]
  },
  {
   "cell_type": "code",
   "execution_count": 133,
   "metadata": {},
   "outputs": [],
   "source": [
    "from pprint import pprint\n",
    "from lxml import html\n",
    "import requests\n",
    "from pymongo import MongoClient\n",
    "from datetime import datetime"
   ]
  },
  {
   "cell_type": "code",
   "execution_count": 134,
   "metadata": {},
   "outputs": [],
   "source": [
    "now = datetime.now()\n",
    "now_data = now.strftime(\" %Y-%m-%d %H:%M\").split(' ')[0]\n",
    "news = []"
   ]
  },
  {
   "cell_type": "code",
   "execution_count": 135,
   "metadata": {},
   "outputs": [],
   "source": [
    "header = {'User-Agent':'Mozilla/5.0 (Windows NT 10.0; Win64; x64) AppleWebKit/537.36 (KHTML, like Gecko) Chrome/83.0.4103.97 Safari/537.36'}"
   ]
  },
  {
   "cell_type": "code",
   "execution_count": null,
   "metadata": {},
   "outputs": [],
   "source": [
    "# yandex.news"
   ]
  },
  {
   "cell_type": "code",
   "execution_count": 136,
   "metadata": {},
   "outputs": [],
   "source": [
    "response = requests.get('https://m.yandex.ru/news/', headers=header)\n",
    "dom = html.fromstring(response.text)"
   ]
  },
  {
   "cell_type": "code",
   "execution_count": 138,
   "metadata": {},
   "outputs": [],
   "source": [
    "blocks = dom.xpath(\"//td[contains(@class,'stories-set__item')]\")\n",
    "\n",
    "for block in blocks:\n",
    "    item = {}\n",
    "    name = block.xpath(\".//a[contains(@class,'link_theme_black')]/text()\")\n",
    "    link = block.xpath(\".//a[contains(@class,'link_theme_black')]/@href\")\n",
    "    source = block.xpath(\".//div[contains(@class,'story__date')]/text()\")\n",
    "    \n",
    "    item['name'] = ''.join(name)\n",
    "    item['link'] = 'https://m.yandex.ru' + ''.join(link)\n",
    "    item['source'] = ''.join(source).split(' ')[0] \n",
    "    item['data'] = ''.join(source).split(' ')[-1] + now_data\n",
    "    news.append(item)"
   ]
  },
  {
   "cell_type": "code",
   "execution_count": null,
   "metadata": {},
   "outputs": [],
   "source": [
    "# lenta.ru"
   ]
  },
  {
   "cell_type": "code",
   "execution_count": 139,
   "metadata": {},
   "outputs": [],
   "source": [
    "response = requests.get('https://lenta.ru/', headers=header)\n",
    "dom = html.fromstring(response.text)"
   ]
  },
  {
   "cell_type": "code",
   "execution_count": 140,
   "metadata": {},
   "outputs": [],
   "source": [
    "blocks = dom.xpath(\"//section[contains(@class,'row b-top7-for-main js-top-seven')]/*/div[contains(@class,'item')]\")\n",
    "\n",
    "for block in blocks:\n",
    "    item = {}\n",
    "    name = block.xpath(\".//a/text()\")\n",
    "    link = block.xpath(\".//a/@href\")\n",
    "    time = block.xpath(\".//time[contains(@class,'g-time')]/text()\")\n",
    "    \n",
    "    item['name'] = ''.join(name).replace('\\xa0', ' ')\n",
    "    item['link'] = 'https://lenta.ru' + ''.join(link)\n",
    "    item['source'] = 'lenta.ru' \n",
    "    item['data'] = ''.join(time) + now_data\n",
    "    news.append(item)"
   ]
  },
  {
   "cell_type": "code",
   "execution_count": null,
   "metadata": {},
   "outputs": [],
   "source": [
    "# news.mail.ru"
   ]
  },
  {
   "cell_type": "code",
   "execution_count": 141,
   "metadata": {},
   "outputs": [],
   "source": [
    "response = requests.get('https://news.mail.ru/', headers=header)\n",
    "dom = html.fromstring(response.text)"
   ]
  },
  {
   "cell_type": "code",
   "execution_count": 142,
   "metadata": {},
   "outputs": [],
   "source": [
    "blocks = dom.xpath(\"//ul//li[contains(@class,'list__item')]\")\n",
    "\n",
    "for block in blocks:\n",
    "    item = {}\n",
    "    name = block.xpath(\"./a[contains(@class,'list__text')][1]/text()\") \n",
    "    link = block.xpath(\"./a[contains(@class,'list__text')][1]/@href\")\n",
    "    \n",
    "    if name == []:\n",
    "        break;\n",
    "    \n",
    "    item['name'] = ''.join(name).replace('\\xa0', ' ')\n",
    "    item['link'] = 'https://news.mail.ru' + ''.join(link)\n",
    "    \n",
    "    response2 = requests.get(item['link'], headers=header)\n",
    "    dom2 = html.fromstring(response2.text)\n",
    "    \n",
    "    source = dom2.xpath(\"//span[contains(@class,'note')]//a[contains(@class,'breadcrumbs__link')]/span[contains(@class,'link__text')]/text()\")\n",
    "    time = dom2.xpath(\"//span[contains(@class,'note')]//span[contains(@class,' js-ago')]/@datatime\")\n",
    "    \n",
    "    item['source'] = ''.join(source)\n",
    "    item['data'] = ''.join(time) + now_data\n",
    "    news.append(item)\n",
    "    "
   ]
  },
  {
   "cell_type": "code",
   "execution_count": null,
   "metadata": {},
   "outputs": [],
   "source": []
  },
  {
   "cell_type": "markdown",
   "metadata": {},
   "source": [
    "#### 2) Сложить все новости в БД"
   ]
  },
  {
   "cell_type": "code",
   "execution_count": 143,
   "metadata": {},
   "outputs": [
    {
     "data": {
      "text/plain": [
       "<pymongo.results.InsertManyResult at 0x2cad08e2588>"
      ]
     },
     "execution_count": 143,
     "metadata": {},
     "output_type": "execute_result"
    }
   ],
   "source": [
    "db_name = 'news_db'\n",
    "client = MongoClient('mongodb://127.0.0.1:27017')\n",
    "db = client[db_name]\n",
    "db.news_db.insert_many(news)"
   ]
  },
  {
   "cell_type": "code",
   "execution_count": null,
   "metadata": {},
   "outputs": [],
   "source": []
  }
 ],
 "metadata": {
  "kernelspec": {
   "display_name": "Python 3",
   "language": "python",
   "name": "python3"
  },
  "language_info": {
   "codemirror_mode": {
    "name": "ipython",
    "version": 3
   },
   "file_extension": ".py",
   "mimetype": "text/x-python",
   "name": "python",
   "nbconvert_exporter": "python",
   "pygments_lexer": "ipython3",
   "version": "3.7.4"
  }
 },
 "nbformat": 4,
 "nbformat_minor": 2
}
